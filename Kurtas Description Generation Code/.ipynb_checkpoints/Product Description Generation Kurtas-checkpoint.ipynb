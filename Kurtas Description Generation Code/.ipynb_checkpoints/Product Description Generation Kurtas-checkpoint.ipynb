{
 "cells": [
  {
   "cell_type": "markdown",
   "metadata": {},
   "source": [
    "# Product Description Generation\n",
    "In this project, you can generate descriptions of various apparel items like shirts, jeans, kurtas using RNNs. The descriptions of 10400 products for each apparel item has been used fro jabong.com to train the neural network. The Neural Network built will generate a product description for a product from the given sets of apparels i.e. shirts, jeans, shoes, watches and kurtas.\n",
    "## Get the Data\n",
    "The data consists of 10400 descriptions of different kurtas obtained from jabong.com with distinguishing features."
   ]
  },
  {
   "cell_type": "code",
   "execution_count": 1,
   "metadata": {},
   "outputs": [],
   "source": [
    "\"\"\"\n",
    "DON'T MODIFY ANYTHING IN THIS CELL\n",
    "\"\"\"\n",
    "import helper\n",
    "\n",
    "data_dir = './data/simpsons/kurtas.txt'\n",
    "text = helper.load_data(data_dir)\n",
    "# Ignore notice, since we don't use it for analysing the data\n",
    "text = text[:]"
   ]
  },
  {
   "cell_type": "code",
   "execution_count": 2,
   "metadata": {},
   "outputs": [
    {
     "name": "stdout",
     "output_type": "stream",
     "text": [
      "Dataset Stats\n",
      "Roughly the number of unique words: 6314\n",
      "Number of scenes: 23725\n",
      "Average number of sentences in each scene: 0.0\n",
      "Number of lines: 23725\n",
      "Average number of words in each line: 28.915700737618547\n",
      "\n",
      "The sentences 0 to 10:\n",
      "﻿Anouk Blue Suit Set: Celebrate your personal style and roots with this elegant blue kurta set from Anouk. Define your figure in this kurta set with a skinny belt for a modern take on this traditional garment.\n",
      "\n",
      "\n",
      "\n",
      "Varanga Grey Printed Kurta Pant Set: Be the cynosure of all eyes by wearing grey kurta pant set by Varanga, This will keep you comfortable throughout the party. Pair it with high heels and look effortlessly chic and fashionable. This set has a soothing colour and will lend you a fresh look this season.\n",
      "\n",
      "\n",
      "\n",
      "Anouk Multicoloured Printed Kurta: This brilliant kurta from Anouk will help you maintain an elegant look all year long. Dress up for your next family event by pairing this multi-coloured piece with your best Kolhapuris and simple jewellery.\n",
      "\n"
     ]
    }
   ],
   "source": [
    "view_sentence_range = (0, 10)\n",
    "\n",
    "\"\"\"\n",
    "DON'T MODIFY ANYTHING IN THIS CELL\n",
    "\"\"\"\n",
    "import numpy as np\n",
    "\n",
    "print('Dataset Stats')\n",
    "print('Roughly the number of unique words: {}'.format(len({word: None for word in text.split()})))\n",
    "scenes = text.split('\\n\\n')\n",
    "print('Number of scenes: {}'.format(len(scenes)))\n",
    "sentence_count_scene = [scene.count('\\n') for scene in scenes]\n",
    "print('Average number of sentences in each scene: {}'.format(np.average(sentence_count_scene)))\n",
    "\n",
    "sentences = [sentence for scene in scenes for sentence in scene.split('\\n')]\n",
    "print('Number of lines: {}'.format(len(sentences)))\n",
    "word_count_sentence = [len(sentence.split()) for sentence in sentences]\n",
    "print('Average number of words in each line: {}'.format(np.average(word_count_sentence)))\n",
    "\n",
    "print()\n",
    "print('The sentences {} to {}:'.format(*view_sentence_range))\n",
    "print('\\n'.join(text.split('\\n')[view_sentence_range[0]:view_sentence_range[1]]))"
   ]
  },
  {
   "cell_type": "markdown",
   "metadata": {},
   "source": [
    "## Implement Preprocessing Functions\n",
    "The first thing to do to any dataset is preprocessing.  Implement the following preprocessing functions below:\n",
    "- Lookup Table\n",
    "- Tokenize Punctuation\n",
    "\n",
    "### Lookup Table\n",
    "To create a word embedding, you first need to transform the words to ids.  In this function, create two dictionaries:\n",
    "- Dictionary to go from the words to an id, we'll call `vocab_to_int`\n",
    "- Dictionary to go from the id to word, we'll call `int_to_vocab`\n",
    "\n",
    "Return these dictionaries in the following tuple `(vocab_to_int, int_to_vocab)`"
   ]
  },
  {
   "cell_type": "code",
   "execution_count": 3,
   "metadata": {},
   "outputs": [
    {
     "name": "stdout",
     "output_type": "stream",
     "text": [
      "Tests Passed\n"
     ]
    }
   ],
   "source": [
    "import numpy as np\n",
    "import problem_unittests as tests\n",
    "\n",
    "def create_lookup_tables(text):\n",
    "    \"\"\"\n",
    "    Create lookup tables for vocabulary\n",
    "    :param text: The text of tv scripts split into words\n",
    "    :return: A tuple of dicts (vocab_to_int, int_to_vocab)\n",
    "    \"\"\"\n",
    "    # TODO: Implement Function\n",
    "    text = list(set(text))   \n",
    "    index = range(len(text))    \n",
    "    int_to_vocab = dict(zip(index, text))   \n",
    "    vocab_to_int = dict(zip(text, index))       \n",
    "    return vocab_to_int, int_to_vocab\n",
    "\n",
    "\n",
    "\"\"\"\n",
    "DON'T MODIFY ANYTHING IN THIS CELL THAT IS BELOW THIS LINE\n",
    "\"\"\"\n",
    "tests.test_create_lookup_tables(create_lookup_tables)"
   ]
  },
  {
   "cell_type": "markdown",
   "metadata": {},
   "source": [
    "### Tokenize Punctuation\n",
    "We'll be splitting the script into a word array using spaces as delimiters.  However, punctuations like periods and exclamation marks make it hard for the neural network to distinguish between the word \"bye\" and \"bye!\".\n",
    "\n",
    "Implement the function `token_lookup` to return a dict that will be used to tokenize symbols like \"!\" into \"||Exclamation_Mark||\".  Create a dictionary for the following symbols where the symbol is the key and value is the token:\n",
    "- Period ( . )\n",
    "- Comma ( , )\n",
    "- Quotation Mark ( \" )\n",
    "- Semicolon ( ; )\n",
    "- Exclamation mark ( ! )\n",
    "- Question mark ( ? )\n",
    "- Left Parentheses ( ( )\n",
    "- Right Parentheses ( ) )\n",
    "- Dash ( -- )\n",
    "- Return ( \\n )\n",
    "\n",
    "This dictionary will be used to token the symbols and add the delimiter (space) around it.  This separates the symbols as it's own word, making it easier for the neural network to predict on the next word. Make sure you don't use a token that could be confused as a word. Instead of using the token \"dash\", try using something like \"||dash||\"."
   ]
  },
  {
   "cell_type": "code",
   "execution_count": 4,
   "metadata": {},
   "outputs": [
    {
     "name": "stdout",
     "output_type": "stream",
     "text": [
      "Tests Passed\n"
     ]
    }
   ],
   "source": [
    "def token_lookup():\n",
    "    \"\"\"\n",
    "    Generate a dict to turn punctuation into a token.\n",
    "    :return: Tokenize dictionary where the key is the punctuation and the value is the token\n",
    "    \"\"\"\n",
    "    # TODO: Implement Function\n",
    "    token = {}\n",
    "    token['.']=\"||period||\"\n",
    "    token[',']=\"||comma||\"\n",
    "    token['\"']=\"||quotation_mark||\"\n",
    "    token[';']=\"||semicolon||\"\n",
    "    token['!']=\"||exclamation_mark||\"\n",
    "    token['?']=\"||question_mark||\"\n",
    "    token['(']=\"||left_parantheses||\"\n",
    "    token[')']=\"||right_parantheses||\"\n",
    "    token['--'] = \"||dash||\"\n",
    "    token['\\n'] = \"||return||\"\n",
    "    \n",
    "    return token\n",
    "\n",
    "\"\"\"\n",
    "DON'T MODIFY ANYTHING IN THIS CELL THAT IS BELOW THIS LINE\n",
    "\"\"\"\n",
    "tests.test_tokenize(token_lookup)"
   ]
  },
  {
   "cell_type": "markdown",
   "metadata": {},
   "source": [
    "## Preprocess all the data and save it\n",
    "Running the code cell below will preprocess all the data and save it to file."
   ]
  },
  {
   "cell_type": "code",
   "execution_count": 5,
   "metadata": {},
   "outputs": [],
   "source": [
    "\"\"\"\n",
    "DON'T MODIFY ANYTHING IN THIS CELL\n",
    "\"\"\"\n",
    "# Preprocess Training, Validation, and Testing Data\n",
    "helper.preprocess_and_save_data(data_dir, token_lookup, create_lookup_tables)"
   ]
  },
  {
   "cell_type": "markdown",
   "metadata": {},
   "source": [
    "# Check Point\n",
    "This is your first checkpoint. If you ever decide to come back to this notebook or have to restart the notebook, you can start from here. The preprocessed data has been saved to disk."
   ]
  },
  {
   "cell_type": "code",
   "execution_count": 6,
   "metadata": {},
   "outputs": [],
   "source": [
    "\"\"\"\n",
    "DON'T MODIFY ANYTHING IN THIS CELL\n",
    "\"\"\"\n",
    "import helper\n",
    "import numpy as np\n",
    "import problem_unittests as tests\n",
    "\n",
    "int_text, vocab_to_int, int_to_vocab, token_dict = helper.load_preprocess()"
   ]
  },
  {
   "cell_type": "markdown",
   "metadata": {},
   "source": [
    "## Build the Neural Network\n",
    "You'll build the components necessary to build a RNN by implementing the following functions below:\n",
    "- get_inputs\n",
    "- get_init_cell\n",
    "- get_embed\n",
    "- build_rnn\n",
    "- build_nn\n",
    "- get_batches\n",
    "\n",
    "### Check the Version of TensorFlow and Access to GPU"
   ]
  },
  {
   "cell_type": "code",
   "execution_count": 7,
   "metadata": {},
   "outputs": [
    {
     "name": "stdout",
     "output_type": "stream",
     "text": [
      "TensorFlow Version: 1.1.0\n",
      "Default GPU Device: /gpu:0\n"
     ]
    }
   ],
   "source": [
    "\"\"\"\n",
    "DON'T MODIFY ANYTHING IN THIS CELL\n",
    "\"\"\"\n",
    "from distutils.version import LooseVersion\n",
    "import warnings\n",
    "import tensorflow as tf\n",
    "\n",
    "# Check TensorFlow Version\n",
    "assert LooseVersion(tf.__version__) >= LooseVersion('1.0'), 'Please use TensorFlow version 1.0 or newer'\n",
    "print('TensorFlow Version: {}'.format(tf.__version__))\n",
    "\n",
    "# Check for a GPU\n",
    "if not tf.test.gpu_device_name():\n",
    "    warnings.warn('No GPU found. Please use a GPU to train your neural network.')\n",
    "else:\n",
    "    print('Default GPU Device: {}'.format(tf.test.gpu_device_name()))"
   ]
  },
  {
   "cell_type": "markdown",
   "metadata": {},
   "source": [
    "### Input\n",
    "Implement the `get_inputs()` function to create TF Placeholders for the Neural Network.  It should create the following placeholders:\n",
    "- Input text placeholder named \"input\" using the [TF Placeholder](https://www.tensorflow.org/api_docs/python/tf/placeholder) `name` parameter.\n",
    "- Targets placeholder\n",
    "- Learning Rate placeholder\n",
    "\n",
    "Return the placeholders in the following tuple `(Input, Targets, LearningRate)`"
   ]
  },
  {
   "cell_type": "code",
   "execution_count": 8,
   "metadata": {},
   "outputs": [
    {
     "name": "stdout",
     "output_type": "stream",
     "text": [
      "Tests Passed\n"
     ]
    }
   ],
   "source": [
    "def get_inputs():\n",
    "    \"\"\"\n",
    "    Create TF Placeholders for input, targets, and learning rate.\n",
    "    :return: Tuple (input, targets, learning rate)\n",
    "    \"\"\"\n",
    "    # TODO: Implement Function\n",
    "    INPUT = tf.placeholder(tf.int32, shape=(None,None), name=\"input\")\n",
    "    TARGETS = tf.placeholder(tf.int32, shape=(None,None), name='targets')\n",
    "    LEARNING_RATE = tf.placeholder(tf.float32, shape=None, name='learning_rate')\n",
    "    return INPUT, TARGETS, LEARNING_RATE\n",
    "\n",
    "\n",
    "\"\"\"\n",
    "DON'T MODIFY ANYTHING IN THIS CELL THAT IS BELOW THIS LINE\n",
    "\"\"\"\n",
    "tests.test_get_inputs(get_inputs)"
   ]
  },
  {
   "cell_type": "markdown",
   "metadata": {},
   "source": [
    "### Build RNN Cell and Initialize\n",
    "Stack one or more [`BasicLSTMCells`](https://www.tensorflow.org/api_docs/python/tf/contrib/rnn/BasicLSTMCell) in a [`MultiRNNCell`](https://www.tensorflow.org/api_docs/python/tf/contrib/rnn/MultiRNNCell).\n",
    "- The Rnn size should be set using `rnn_size`\n",
    "- Initalize Cell State using the MultiRNNCell's [`zero_state()`](https://www.tensorflow.org/api_docs/python/tf/contrib/rnn/MultiRNNCell#zero_state) function\n",
    "    - Apply the name \"initial_state\" to the initial state using [`tf.identity()`](https://www.tensorflow.org/api_docs/python/tf/identity)\n",
    "\n",
    "Return the cell and initial state in the following tuple `(Cell, InitialState)`"
   ]
  },
  {
   "cell_type": "code",
   "execution_count": 9,
   "metadata": {},
   "outputs": [
    {
     "name": "stdout",
     "output_type": "stream",
     "text": [
      "Tests Passed\n"
     ]
    }
   ],
   "source": [
    "def get_init_cell(batch_size, rnn_size):\n",
    "    \"\"\"\n",
    "    Create an RNN Cell and initialize it.\n",
    "    :param batch_size: Size of batches\n",
    "    :param rnn_size: Size of RNNs\n",
    "    :return: Tuple (cell, initialize state)\n",
    "    \"\"\"\n",
    "    # TODO: Implement Function\n",
    "    lstm1 = tf.contrib.rnn.BasicLSTMCell(rnn_size)\n",
    "    lstm2 = tf.contrib.rnn.BasicLSTMCell(rnn_size)\n",
    "    lstm3 = tf.contrib.rnn.BasicLSTMCell(rnn_size)\n",
    "    lstm4 = tf.contrib.rnn.BasicLSTMCell(rnn_size)\n",
    "    cell = tf.contrib.rnn.MultiRNNCell([lstm1,lstm2,lstm3,lstm4])\n",
    "    initial_state = cell.zero_state(batch_size, tf.float32)\n",
    "    initial_state = tf.identity(initial_state, name='initial_state')\n",
    "   \n",
    "     \n",
    "    return cell, initial_state\n",
    "\n",
    "\n",
    "\"\"\"\n",
    "DON'T MODIFY ANYTHING IN THIS CELL THAT IS BELOW THIS LINE\n",
    "\"\"\"\n",
    "tests.test_get_init_cell(get_init_cell)"
   ]
  },
  {
   "cell_type": "markdown",
   "metadata": {},
   "source": [
    "### Word Embedding\n",
    "Apply embedding to `input_data` using TensorFlow.  Return the embedded sequence."
   ]
  },
  {
   "cell_type": "code",
   "execution_count": 10,
   "metadata": {},
   "outputs": [
    {
     "name": "stdout",
     "output_type": "stream",
     "text": [
      "Tests Passed\n"
     ]
    }
   ],
   "source": [
    "def get_embed(input_data, vocab_size, embed_dim):\n",
    "    \"\"\"\n",
    "    Create embedding for <input_data>.\n",
    "    :param input_data: TF placeholder for text input.\n",
    "    :param vocab_size: Number of words in vocabulary.\n",
    "    :param embed_dim: Number of embedding dimensionstea\n",
    "    :return: Embedded input.\n",
    "    \"\"\"\n",
    "    # TODO: Implement Function\n",
    "    embedding = tf.Variable(tf.random_uniform((vocab_size, embed_dim), -1, 1))\n",
    "    embed = tf.nn.embedding_lookup(embedding, input_data)\n",
    "    return embed\n",
    "\n",
    "\n",
    "\"\"\"\n",
    "DON'T MODIFY ANYTHING IN THIS CELL THAT IS BELOW THIS LINE\n",
    "\"\"\"\n",
    "tests.test_get_embed(get_embed)"
   ]
  },
  {
   "cell_type": "markdown",
   "metadata": {},
   "source": [
    "### Build RNN\n",
    "You created a RNN Cell in the `get_init_cell()` function.  Time to use the cell to create a RNN.\n",
    "- Build the RNN using the [`tf.nn.dynamic_rnn()`](https://www.tensorflow.org/api_docs/python/tf/nn/dynamic_rnn)\n",
    " - Apply the name \"final_state\" to the final state using [`tf.identity()`](https://www.tensorflow.org/api_docs/python/tf/identity)\n",
    "\n",
    "Return the outputs and final_state state in the following tuple `(Outputs, FinalState)` "
   ]
  },
  {
   "cell_type": "code",
   "execution_count": 11,
   "metadata": {},
   "outputs": [
    {
     "name": "stdout",
     "output_type": "stream",
     "text": [
      "Tests Passed\n"
     ]
    }
   ],
   "source": [
    "def build_rnn(cell, inputs):\n",
    "    \"\"\"\n",
    "    Create a RNN using a RNN Cell\n",
    "    :param cell: RNN Cell\n",
    "    :param inputs: Input text data\n",
    "    :return: Tuple (Outputs, Final State)\n",
    "    \"\"\"\n",
    "    # TODO: Implement Function\n",
    "    Outputs, States = tf.nn.dynamic_rnn(cell, inputs,dtype='float32')\n",
    "    FinalState = tf.identity(States,name=\"final_state\")\n",
    "    return Outputs, FinalState\n",
    "\n",
    "\n",
    "\"\"\"\n",
    "DON'T MODIFY ANYTHING IN THIS CELL THAT IS BELOW THIS LINE\n",
    "\"\"\"\n",
    "tests.test_build_rnn(build_rnn)"
   ]
  },
  {
   "cell_type": "markdown",
   "metadata": {},
   "source": [
    "### Build the Neural Network\n",
    "Apply the functions you implemented above to:\n",
    "- Apply embedding to `input_data` using your `get_embed(input_data, vocab_size, embed_dim)` function.\n",
    "- Build RNN using `cell` and your `build_rnn(cell, inputs)` function.\n",
    "- Apply a fully connected layer with a linear activation and `vocab_size` as the number of outputs.\n",
    "\n",
    "Return the logits and final state in the following tuple (Logits, FinalState) "
   ]
  },
  {
   "cell_type": "code",
   "execution_count": 12,
   "metadata": {},
   "outputs": [
    {
     "name": "stdout",
     "output_type": "stream",
     "text": [
      "Tests Passed\n"
     ]
    }
   ],
   "source": [
    "def build_nn(cell, rnn_size, input_data, vocab_size, embed_dim):\n",
    "    \"\"\"\n",
    "    Build part of the neural network\n",
    "    :param cell: RNN cell\n",
    "    :param rnn_size: Size of rnns\n",
    "    :param input_data: Input data\n",
    "    :param vocab_size: Vocabulary size\n",
    "    :param embed_dim: Number of embedding dimensions\n",
    "    :return: Tuple (Logits, FinalState)\n",
    "    \"\"\"\n",
    "    # TODO: Implement Function\n",
    "    embed = get_embed(input_data, vocab_size, embed_dim)\n",
    "    outputs, final_state = build_rnn(cell, embed)\n",
    "    logits = tf.contrib.layers.fully_connected(outputs, vocab_size, activation_fn=None,\n",
    "                                               weights_initializer=tf.truncated_normal_initializer(stddev=0.1),\n",
    "                                               biases_initializer=tf.zeros_initializer())\n",
    "    return logits, final_state\n",
    "\n",
    "\n",
    "\"\"\"\n",
    "DON'T MODIFY ANYTHING IN THIS CELL THAT IS BELOW THIS LINE\n",
    "\"\"\"\n",
    "tests.test_build_nn(build_nn)"
   ]
  },
  {
   "cell_type": "markdown",
   "metadata": {},
   "source": [
    "### Batches\n",
    "Implement `get_batches` to create batches of input and targets using `int_text`.  The batches should be a Numpy array with the shape `(number of batches, 2, batch size, sequence length)`. Each batch contains two elements:\n",
    "- The first element is a single batch of **input** with the shape `[batch size, sequence length]`\n",
    "- The second element is a single batch of **targets** with the shape `[batch size, sequence length]`\n",
    "\n",
    "If you can't fill the last batch with enough data, drop the last batch.\n",
    "\n",
    "For example, `get_batches([1, 2, 3, 4, 5, 6, 7, 8, 9, 10, 11, 12, 13, 14, 15, 16, 17, 18, 19, 20], 3, 2)` would return a Numpy array of the following:\n",
    "```\n",
    "[\n",
    "  # First Batch\n",
    "  [\n",
    "    # Batch of Input\n",
    "    [[ 1  2], [ 7  8], [13 14]]\n",
    "    # Batch of targets\n",
    "    [[ 2  3], [ 8  9], [14 15]]\n",
    "  ]\n",
    "\n",
    "  # Second Batch\n",
    "  [\n",
    "    # Batch of Input\n",
    "    [[ 3  4], [ 9 10], [15 16]]\n",
    "    # Batch of targets\n",
    "    [[ 4  5], [10 11], [16 17]]\n",
    "  ]\n",
    "\n",
    "  # Third Batch\n",
    "  [\n",
    "    # Batch of Input\n",
    "    [[ 5  6], [11 12], [17 18]]\n",
    "    # Batch of targets\n",
    "    [[ 6  7], [12 13], [18  1]]\n",
    "  ]\n",
    "]\n",
    "```\n",
    "\n",
    "Notice that the last target value in the last batch is the first input value of the first batch. In this case, `1`. This is a common technique used when creating sequence batches, although it is rather unintuitive."
   ]
  },
  {
   "cell_type": "code",
   "execution_count": 13,
   "metadata": {},
   "outputs": [
    {
     "name": "stdout",
     "output_type": "stream",
     "text": [
      "Tests Passed\n"
     ]
    }
   ],
   "source": [
    "def get_batches(int_text, batch_size, seq_length):\n",
    "    \"\"\"\n",
    "    Return batches of input and target\n",
    "    :param int_text: Text with the words replaced by their ids\n",
    "    :param batch_size: The size of batch\n",
    "    :param seq_length: The length of sequence\n",
    "    :return: Batches as a Numpy array\n",
    "    \"\"\"\n",
    "    # TODO: Implement Function\n",
    "    num_batches = int(len(int_text) / (batch_size * seq_length))\n",
    "    in_data = np.array(int_text[: num_batches * batch_size * seq_length])\n",
    "    out_data = np.array(int_text[1: num_batches * batch_size * seq_length + 1])\n",
    "    out_data[-1] = in_data[0]\n",
    "\n",
    "    in_batches = np.split(in_data.reshape(batch_size, -1), num_batches, 1)\n",
    "    out_batches = np.split(out_data.reshape(batch_size, -1), num_batches, 1)\n",
    "    return np.array(list(zip(in_batches, out_batches)))\n",
    "\n",
    "\n",
    "\"\"\"\n",
    "DON'T MODIFY ANYTHING IN THIS CELL THAT IS BELOW THIS LINE\n",
    "\"\"\"\n",
    "tests.test_get_batches(get_batches)"
   ]
  },
  {
   "cell_type": "markdown",
   "metadata": {},
   "source": [
    "## Neural Network Training\n",
    "### Hyperparameters\n",
    "Tune the following parameters:\n",
    "\n",
    "- Set `num_epochs` to the number of epochs.\n",
    "- Set `batch_size` to the batch size.\n",
    "- Set `rnn_size` to the size of the RNNs.\n",
    "- Set `embed_dim` to the size of the embedding.\n",
    "- Set `seq_length` to the length of sequence.\n",
    "- Set `learning_rate` to the learning rate.\n",
    "- Set `show_every_n_batches` to the number of batches the neural network should print progress."
   ]
  },
  {
   "cell_type": "code",
   "execution_count": 15,
   "metadata": {},
   "outputs": [],
   "source": [
    "# Number of Epochs\n",
    "num_epochs = 3000\n",
    "# Batch Size\n",
    "batch_size = 512\n",
    "# RNN Size\n",
    "rnn_size = 256\n",
    "# Embedding Dimension Size\n",
    "embed_dim = 256\n",
    "# Sequence Length\n",
    "seq_length = 16\n",
    "# Learning Rate\n",
    "learning_rate = 0.01\n",
    "# Show stats for every n number of batches\n",
    "show_every_n_batches = 32\n",
    "\n",
    "\"\"\"\n",
    "DON'T MODIFY ANYTHING IN THIS CELL THAT IS BELOW THIS LINE\n",
    "\"\"\"\n",
    "save_dir = './savekurtas'"
   ]
  },
  {
   "cell_type": "markdown",
   "metadata": {},
   "source": [
    "### Build the Graph\n",
    "Build the graph using the neural network you implemented."
   ]
  },
  {
   "cell_type": "code",
   "execution_count": 16,
   "metadata": {},
   "outputs": [],
   "source": [
    "\"\"\"\n",
    "DON'T MODIFY ANYTHING IN THIS CELL\n",
    "\"\"\"\n",
    "from tensorflow.contrib import seq2seq\n",
    "\n",
    "train_graph = tf.Graph()\n",
    "with train_graph.as_default():\n",
    "    vocab_size = len(int_to_vocab)\n",
    "    input_text, targets, lr = get_inputs()\n",
    "    input_data_shape = tf.shape(input_text)\n",
    "    cell, initial_state = get_init_cell(input_data_shape[0], rnn_size)\n",
    "    logits, final_state = build_nn(cell, rnn_size, input_text, vocab_size, embed_dim)\n",
    "\n",
    "    # Probabilities for generating words\n",
    "    probs = tf.nn.softmax(logits, name='probs')\n",
    "\n",
    "    # Loss function\n",
    "    cost = seq2seq.sequence_loss(\n",
    "        logits,\n",
    "        targets,\n",
    "        tf.ones([input_data_shape[0], input_data_shape[1]]))\n",
    "\n",
    "    # Optimizer\n",
    "    optimizer = tf.train.AdamOptimizer(lr)\n",
    "\n",
    "    # Gradient Clipping\n",
    "    gradients = optimizer.compute_gradients(cost)\n",
    "    capped_gradients = [(tf.clip_by_value(grad, -1., 1.), var) for grad, var in gradients if grad is not None]\n",
    "    train_op = optimizer.apply_gradients(capped_gradients)"
   ]
  },
  {
   "cell_type": "markdown",
   "metadata": {},
   "source": [
    "## Train\n",
    "Train the neural network on the preprocessed data.  If you have a hard time getting a good loss, check the [forums](https://discussions.udacity.com/) to see if anyone is having the same problem."
   ]
  },
  {
   "cell_type": "code",
   "execution_count": null,
   "metadata": {},
   "outputs": [
    {
     "name": "stdout",
     "output_type": "stream",
     "text": [
      "Epoch   0 Batch    0/96   train_loss = 8.292\n",
      "Epoch   0 Batch   32/96   train_loss = 5.514\n",
      "Epoch   0 Batch   64/96   train_loss = 5.462\n",
      "Epoch   1 Batch    0/96   train_loss = 5.211\n",
      "Epoch   1 Batch   32/96   train_loss = 4.938\n",
      "Epoch   1 Batch   64/96   train_loss = 4.491\n",
      "Epoch   2 Batch    0/96   train_loss = 3.999\n",
      "Epoch   2 Batch   32/96   train_loss = 3.723\n",
      "Epoch   2 Batch   64/96   train_loss = 3.248\n",
      "Epoch   3 Batch    0/96   train_loss = 2.665\n",
      "Epoch   3 Batch   32/96   train_loss = 2.504\n",
      "Epoch   3 Batch   64/96   train_loss = 2.272\n",
      "Epoch   4 Batch    0/96   train_loss = 1.971\n",
      "Epoch   4 Batch   32/96   train_loss = 2.023\n",
      "Epoch   4 Batch   64/96   train_loss = 1.933\n",
      "Epoch   5 Batch    0/96   train_loss = 1.719\n",
      "Epoch   5 Batch   32/96   train_loss = 1.809\n",
      "Epoch   5 Batch   64/96   train_loss = 1.746\n",
      "Epoch   6 Batch    0/96   train_loss = 1.598\n",
      "Epoch   6 Batch   32/96   train_loss = 1.656\n"
     ]
    }
   ],
   "source": [
    "\"\"\"\n",
    "DON'T MODIFY ANYTHING IN THIS CELL\n",
    "\"\"\"\n",
    "\n",
    "batches = get_batches(int_text, batch_size, seq_length)\n",
    "\n",
    "with tf.Session(graph=train_graph) as sess:\n",
    "    sess.run(tf.global_variables_initializer())\n",
    "\n",
    "    for epoch_i in range(num_epochs):\n",
    "        state = sess.run(initial_state, {input_text: batches[0][0]})\n",
    "\n",
    "        for batch_i, (x, y) in enumerate(batches):\n",
    "            feed = {\n",
    "                input_text: x,\n",
    "                targets: y,\n",
    "                initial_state: state,\n",
    "                lr: learning_rate}\n",
    "            train_loss, state, _ = sess.run([cost, final_state, train_op], feed)\n",
    "\n",
    "            # Show every <show_every_n_batches> batches\n",
    "            if (epoch_i * len(batches) + batch_i) % show_every_n_batches == 0:\n",
    "                print('Epoch {:>3} Batch {:>4}/{}   train_loss = {:.3f}'.format(\n",
    "                    epoch_i,\n",
    "                    batch_i,\n",
    "                    len(batches),\n",
    "                    train_loss))\n",
    "\n",
    "    # Save Model\n",
    "    saver = tf.train.Saver()\n",
    "    saver.save(sess, save_dir)\n",
    "    print('Model Trained and Saved')\n",
    "    "
   ]
  },
  {
   "cell_type": "markdown",
   "metadata": {},
   "source": [
    "## Save Parameters\n",
    "Save `seq_length` and `save_dir` for generating a new TV script."
   ]
  },
  {
   "cell_type": "code",
   "execution_count": null,
   "metadata": {},
   "outputs": [],
   "source": [
    "\"\"\"\n",
    "DON'T MODIFY ANYTHING IN THIS CELL\n",
    "\"\"\"\n",
    "# Save parameters for checkpoint\n",
    "helper.save_params((seq_length, save_dir))"
   ]
  },
  {
   "cell_type": "markdown",
   "metadata": {},
   "source": [
    "# Checkpoint"
   ]
  },
  {
   "cell_type": "code",
   "execution_count": 2,
   "metadata": {},
   "outputs": [
    {
     "name": "stderr",
     "output_type": "stream",
     "text": [
      "/usr/local/lib/python3.5/dist-packages/h5py/__init__.py:36: FutureWarning: Conversion of the second argument of issubdtype from `float` to `np.floating` is deprecated. In future, it will be treated as `np.float64 == np.dtype(float).type`.\n",
      "  from ._conv import register_converters as _register_converters\n"
     ]
    }
   ],
   "source": [
    "\"\"\"\n",
    "DON'T MODIFY ANYTHING IN THIS CELL\n",
    "\"\"\"\n",
    "import tensorflow as tf\n",
    "import numpy as np\n",
    "import helper\n",
    "import problem_unittests as tests\n",
    "\n",
    "_, vocab_to_int, int_to_vocab, token_dict = helper.load_preprocess()\n",
    "seq_length, load_dir = helper.load_params()"
   ]
  },
  {
   "cell_type": "markdown",
   "metadata": {},
   "source": [
    "## Implement Generate Functions\n",
    "### Get Tensors\n",
    "Get tensors from `loaded_graph` using the function [`get_tensor_by_name()`](https://www.tensorflow.org/api_docs/python/tf/Graph#get_tensor_by_name).  Get the tensors using the following names:\n",
    "- \"input:0\"\n",
    "- \"initial_state:0\"\n",
    "- \"final_state:0\"\n",
    "- \"probs:0\"\n",
    "\n",
    "Return the tensors in the following tuple `(InputTensor, InitialStateTensor, FinalStateTensor, ProbsTensor)` "
   ]
  },
  {
   "cell_type": "code",
   "execution_count": 3,
   "metadata": {},
   "outputs": [
    {
     "name": "stdout",
     "output_type": "stream",
     "text": [
      "Tests Passed\n"
     ]
    }
   ],
   "source": [
    "def get_tensors(loaded_graph):\n",
    "    \"\"\"\n",
    "    Get input, initial state, final state, and probabilities tensor from <loaded_graph>\n",
    "    :param loaded_graph: TensorFlow graph loaded from file\n",
    "    :return: Tuple (InputTensor, InitialStateTensor, FinalStateTensor, ProbsTensor)\n",
    "    \"\"\"\n",
    "    # TODO: Implement Function\n",
    "    input_tensor = loaded_graph.get_tensor_by_name('input:0')\n",
    "    initial_state_tensor = loaded_graph.get_tensor_by_name('initial_state:0')\n",
    "    final_state_tensor = loaded_graph.get_tensor_by_name('final_state:0')\n",
    "    probs_tensor = loaded_graph.get_tensor_by_name('probs:0')\n",
    "    \n",
    "    return input_tensor, initial_state_tensor, final_state_tensor, probs_tensor\n",
    "\n",
    "\n",
    "\n",
    "tests.test_get_tensors(get_tensors)"
   ]
  },
  {
   "cell_type": "markdown",
   "metadata": {},
   "source": [
    "### Choose Word\n",
    "Implement the `pick_word()` function to select the next word using `probabilities`."
   ]
  },
  {
   "cell_type": "code",
   "execution_count": 4,
   "metadata": {},
   "outputs": [
    {
     "name": "stdout",
     "output_type": "stream",
     "text": [
      "Tests Passed\n"
     ]
    }
   ],
   "source": [
    "def pick_word(probabilities, int_to_vocab):\n",
    "    \"\"\"\n",
    "    Pick the next word in the generated text\n",
    "    :param probabilities: Probabilites of the next word\n",
    "    :param int_to_vocab: Dictionary of word ids as the keys and words as the values\n",
    "    :return: String of the predicted word\n",
    "    \"\"\"\n",
    "    # TODO: Implement Function\n",
    "    next_word = np.random.choice(len(int_to_vocab), p=probabilities)\n",
    "    prediction = int_to_vocab[next_word]\n",
    "    return prediction\n",
    "\n",
    "\n",
    "\n",
    "\n",
    "tests.test_pick_word(pick_word)"
   ]
  },
  {
   "cell_type": "markdown",
   "metadata": {},
   "source": [
    "## Generate Product Description\n",
    "This will generate the Description for your product.  Set `gen_length` to the length of product description you want to generate."
   ]
  },
  {
   "cell_type": "code",
   "execution_count": 5,
   "metadata": {},
   "outputs": [],
   "source": [
    "def generate_description(feature):\n",
    "\n",
    "    gen_length = 100\n",
    "    # Sentences generation setup\n",
    "    gen_sentences = [feature]\n",
    "    prev_state = sess.run(initial_state, {input_text: np.array([[1]])})\n",
    "    # Generate sentences\n",
    "    for n in range(gen_length):\n",
    "        # Dynamic Input\n",
    "        dyn_input = [[vocab_to_int[word] for word in gen_sentences[-seq_length:]]]\n",
    "        dyn_seq_length = len(dyn_input[0])\n",
    "\n",
    "        # Get Prediction\n",
    "        probabilities, prev_state = sess.run(\n",
    "            [probs, final_state],\n",
    "            {input_text: dyn_input, initial_state: prev_state})\n",
    "\n",
    "        pred_word = pick_word(probabilities[dyn_seq_length-1], int_to_vocab)\n",
    "\n",
    "        gen_sentences.append(pred_word)\n",
    "\n",
    "    # Remove tokens\n",
    "    product_desc = ' '.join(gen_sentences)\n",
    "    for key, token in token_dict.items():\n",
    "        ending = ' ' if key in ['\\n', '(', '\"'] else ''\n",
    "        product_desc = product_desc.replace(' ' + token.lower(), key)\n",
    "    product_desc = product_desc.replace('\\n ', '\\n')\n",
    "    product_desc = product_desc.replace('( ', '(')\n",
    "\n",
    "\n",
    "\n",
    "    product_desc = product_desc.split(\"\\n\\n\")[0]\n",
    "    prod_title = product_desc.split(\":\")[0]\n",
    "    try:\n",
    "        desc = product_desc.split(\":\")[1]\n",
    "    except:\n",
    "        product_desc = product_desc + \": \"\n",
    "        desc = product_desc.split(\":\")[1]\n",
    "    if len(prod_title.split(\" \")) <= 10:\n",
    "        if len(desc.split(\" \")) >= 2:\n",
    "            return product_desc\n",
    "    else:\n",
    "        x = generate_description(feature)\n",
    "        return x\n"
   ]
  },
  {
   "cell_type": "code",
   "execution_count": 6,
   "metadata": {},
   "outputs": [],
   "source": [
    "def get_eligibility(desc,feature,feature_list):\n",
    "    counter = 0\n",
    "    n = 0\n",
    "    list_len = len(feature_list)\n",
    "    for ftr in feature_list:\n",
    "        if ftr == feature:\n",
    "            ftr_index = n\n",
    "            break\n",
    "        else:\n",
    "            n+=1\n",
    "    \n",
    "    every_other_ftr = []\n",
    "    \n",
    "    for i in range(1,(list_len)):\n",
    "        every_other_ftr.append(feature_list[(i+ftr_index)%list_len])\n",
    "    for desn in desc:\n",
    "        flag = 0\n",
    "        for features in every_other_ftr:\n",
    "            for keys in desn.split(\":\")[0].split(\" \"):\n",
    "                if features == keys:\n",
    "                    for keys1 in desn.split(\":\")[1].split(\" \"):\n",
    "                        if features == keys1:\n",
    "                            flag+=1\n",
    "                            break\n",
    "        if flag == (list_len-1):\n",
    "            counter = counter + 1\n",
    "    \n",
    "    elig = counter/10.0\n",
    "    return elig"
   ]
  },
  {
   "cell_type": "code",
   "execution_count": 7,
   "metadata": {},
   "outputs": [],
   "source": [
    "def get_prime_word(featurestr):\n",
    "    \n",
    "    feature_list = featurestr.lower().split(\" \")\n",
    "    n = 0\n",
    "    l = len(feature_list)\n",
    "    eligibility = []\n",
    "    for each_feature in feature_list:\n",
    "        n = 1\n",
    "        descl = []\n",
    "        for i in range(0,10):\n",
    "            desc = generate_description(each_feature)\n",
    "            descl.insert(i,desc)\n",
    "        eligibility.insert(n,get_eligibility(descl,each_feature,feature_list))\n",
    "        n = n+1\n",
    "    lpp = len(eligibility)\n",
    "    fstelig = eligibility[0]\n",
    "    fl = 1\n",
    "    for nm in range(1,lpp):\n",
    "        if eligibility[nm] == fstelig:\n",
    "            fl+=1\n",
    "    if fl == lpp:\n",
    "        prime_words = feature_list\n",
    "    else:\n",
    "        prime_words = [feature_list for _,feature_list in sorted(zip(eligibility,feature_list),reverse=True)] \n",
    "    \n",
    "    m = eligibility[0]\n",
    "    fl = 1\n",
    "    for nm in range(1,lpp):\n",
    "        if eligibility[nm] == m:\n",
    "            fl+=1\n",
    "    if fl == lpp:\n",
    "        flfl = 0\n",
    "    else:\n",
    "        eligibility.sort(reverse=True)\n",
    "    return prime_words\n",
    "\n"
   ]
  },
  {
   "cell_type": "code",
   "execution_count": 8,
   "metadata": {},
   "outputs": [
    {
     "name": "stdout",
     "output_type": "stream",
     "text": [
      "INFO:tensorflow:Restoring parameters from ./save\n",
      "green\n",
      "green\n",
      "green\n",
      "time required to generate the description is 462.23864579200745\n",
      "\n",
      "\n",
      "Final description\n",
      "The final description for this feature string is \n",
      "lee brown cooper printed regular fit round neck t-shirt: strut on the streets in comfort wearing this t-shirt by lee. this unique t-shirt features regular polo neck and short sleeves that lend a laid-back look, this t-shirt can be best teamed with a pair of jeans and mid-ankle shoes.\n"
     ]
    }
   ],
   "source": [
    "#main function    \n",
    "import time\n",
    "import numpy as np\n",
    "loaded_graph = tf.Graph()\n",
    "with tf.Session(graph=loaded_graph) as sess:\n",
    "    # Load saved model\n",
    "    loader = tf.train.import_meta_graph(load_dir + '.meta')\n",
    "    loader.restore(sess, load_dir)\n",
    "\n",
    "    # Get Tensors from loaded model\n",
    "    input_text, initial_state, final_state, probs = get_tensors(loaded_graph)\n",
    "    \n",
    "    # Sentences generation setup\n",
    "    prev_state = sess.run(initial_state, {input_text: np.array([[1]])})\n",
    "    gen_length = 100\n",
    "\n",
    "    features_str = \"wrangler blue t-shirt\"\n",
    "    start_time = time.time()\n",
    "    ftrs = features_str.split(\" \")\n",
    "    l = len(ftrs)\n",
    "    prime_words= get_prime_word(features_str)\n",
    "    prime_word = prime_words[0]\n",
    "    lp = len(prime_words)\n",
    "    \n",
    "         \n",
    "        ### TO Implement############################################################################\n",
    "        \n",
    "        #num_prime_desc = 200  \n",
    "        #num_other_keyword = 100\n",
    "        #temp = [num_prime_desc + num_keyword * num_other_keyword, 2]\n",
    "        \n",
    "        #--------------------\n",
    "        #|descrp|num_keywords|\n",
    "        #---------------------\n",
    "        #|       |           |\n",
    "        #---------------------\n",
    "        \n",
    "        \n",
    "        ##TO Do\n",
    "        # 1. select the description which has highest number of keywords\n",
    "        # 2. In case of multiple descrips have same number of keywords, select the first\n",
    "        # 3. In case none of the description has all the keywords, select the best possible and \n",
    "        #    Augment it with the sentence related to missing keywords from the descriptions directly related \n",
    "        #    to that particular keyword\n",
    "        \n",
    "        \n",
    "        # Actual Code Will Go Here\n",
    "        \n",
    "    \n",
    "    first_desc = generate_description(prime_word)\n",
    "    first_title = first_desc.split(\":\")[0]\n",
    "    first_desc_only = first_desc.split(\":\")[1]\n",
    "    flag = 0\n",
    "    for index in range(0,lp):\n",
    "        \n",
    "        if prime_words[index] in first_title and prime_words[index] in first_desc_only:\n",
    "            flag = flag + 1\n",
    "            \n",
    "            \n",
    "            \n",
    "    desc_array = np.array([first_desc,flag])\n",
    "    for i in range(1,20):\n",
    "\n",
    "        desc = generate_description(prime_words[0])\n",
    "    \n",
    "\n",
    "        title = desc.split(\":\")[0]\n",
    "        desc_only = desc.split(\":\")[1]\n",
    "\n",
    "        flag = 0\n",
    "        for indx in range(0,lp):\n",
    "            \n",
    "            if prime_words[indx] in title and prime_words[indx] in desc_only:\n",
    "                flag+=1\n",
    "\n",
    "\n",
    "        new_array = np.array([desc,flag])\n",
    "        desc_array = np.vstack([desc_array,new_array])    \n",
    "\n",
    "    for ix in range(1,lp):\n",
    "        \n",
    "        for i in range(0,10):\n",
    "\n",
    "            desc = generate_description(prime_words[ix])\n",
    "\n",
    "            title = desc.split(\":\")[0]\n",
    "            desc_only = desc.split(\":\")[1]\n",
    "\n",
    "            flag = 0\n",
    "            for indx in range(0,lp):\n",
    "                \n",
    "                if prime_words[indx] in title and prime_words[indx] in desc_only:\n",
    "                    flag+=1\n",
    "                \n",
    "            new_array = np.array([desc,flag])\n",
    "            desc_array = np.vstack([desc_array,new_array])    \n",
    "    \n",
    "            \n",
    "    max = 0   \n",
    "    desc_op = \"\"\n",
    "    for all in desc_array:\n",
    "        if(int(all[1])>=max):\n",
    "            desc_op = all[0]\n",
    "            max = int(all[1])\n",
    "    import webcolors\n",
    "    import helper\n",
    "\n",
    "    def get_brandname():\n",
    "\n",
    "        data_dir = './data/simpsons/jeans.txt'\n",
    "        text = helper.load_data(data_dir)\n",
    "        # Ignore notice, since we don't use it for analysing the data\n",
    "        text = text[:]\n",
    "        brands = []\n",
    "        alldesc = text.split(\"\\n\\n\")\n",
    "        for eachdesc in alldesc:\n",
    "            eachtitle = eachdesc.split(\":\")[0]\n",
    "            brandname = eachtitle.split(\" \")[0]\n",
    "            brandname = brandname.replace(\"\\n\",'')\n",
    "            brandname = brandname.replace(\"\\ufeff\",'')\n",
    "            brandname = brandname.lower()\n",
    "            brands.append(brandname)\n",
    "        brands = set(brands)\n",
    "        brands = list(brands)\n",
    "\n",
    "        brands.remove('the')\n",
    "        brands.remove('')\n",
    "        brands.remove('none')\n",
    "        brands.remove('blend')\n",
    "        brands.remove('design')\n",
    "        brands.remove('true')\n",
    "        brands.remove('all')\n",
    "        clrlst = get_colors()\n",
    "        brands = list(set(brands)-set(clrlst))\n",
    "\n",
    "\n",
    "        return brands\n",
    "\n",
    "    def get_colors():\n",
    "        list_of_colors = []\n",
    "        listcolors = webcolors.CSS3_NAMES_TO_HEX\n",
    "        for all in listcolors:\n",
    "            cl = all.split(\":\")[0]\n",
    "            list_of_colors.append(cl)\n",
    "        list_of_colors.append('mauve')\n",
    "        list_of_colors.append('wine')\n",
    "        return list_of_colors\n",
    "\n",
    "    ###############################################################################################################################################\n",
    "    ############################################################################################################################################3\n",
    "    ##################################################################################################################################\n",
    "\n",
    "\n",
    "    #Getting brand names from text files to identify brand in the features string\n",
    "    brandnames = get_brandname()\n",
    "    brand_instr = ''\n",
    "    for allbrands in brandnames:\n",
    "        for allwords in features_str.split(\" \"):\n",
    "            if allbrands == allwords:\n",
    "                brand_instr = allbrands\n",
    "                break\n",
    "\n",
    "\n",
    "\n",
    "    #getting all colors to identify the color in the features string\n",
    "    colorlist = get_colors()\n",
    "    color_instr = ''\n",
    "    for allcolors in colorlist:\n",
    "        for allwords in features_str.split(\" \"):\n",
    "            if allcolors == allwords:\n",
    "                color_instr = allcolors\n",
    "                break\n",
    "            else:\n",
    "                for allword in desc_op.split(\":\")[0].split(\" \"):\n",
    "                    if allcolors == allword:\n",
    "                        color_instr = allcolors\n",
    "                        break\n",
    "    \n",
    "\n",
    "    # to append the brand name in the title if not present\n",
    "\n",
    "    allwordsintitle = desc_op.split(\":\")[0]\n",
    "\n",
    "    for allwords in allwordsintitle.split(\" \"):\n",
    "        if allwords == color_instr:\n",
    "            flg = 0\n",
    "        else:\n",
    "            allwordsintitle = color_instr + \" \" + allwordsintitle\n",
    "            title = desc_op.split(\":\")[0]\n",
    "            allwordsintitle = title.replace(desc_op.split(\":\")[0],allwordsintitle)\n",
    "            break\n",
    "\n",
    "    for allwords in allwordsintitle.split(\" \"):\n",
    "        if allwords == brand_instr:\n",
    "            flg = 0\n",
    "        else:\n",
    "            allwordsintitle = brand_instr + \" \" + allwordsintitle\n",
    "            title = desc_op.split(\":\")[0]\n",
    "            allwordsintitle = title.replace(desc_op.split(\":\")[0],allwordsintitle)\n",
    "            break\n",
    "\n",
    "\n",
    "    #to replace brand names and colours in the description \n",
    "\n",
    "    allwordsindescription = desc_op.split(\":\")[1]\n",
    "\n",
    "    for brandnm in brandnames:\n",
    "        for allwords in allwordsintitle.split(\" \"):\n",
    "            if brandnm == allwords or brandnm+\".\" == allwords or brandnm+\",\" == allwords or brandnm+\";\" == allwords:\n",
    "                allwordsintitle = allwordsintitle.replace(brandnm,brand_instr)\n",
    "        for allwords in allwordsindescription.split(\" \"):\n",
    "            if brandnm == allwords or brandnm+\".\" == allwords or brandnm+\",\" == allwords or brandnm+\";\" == allwords:\n",
    "                allwordsindescription = allwordsindescription.replace(brandnm,brand_instr)\n",
    "\n",
    "\n",
    "    desc_op = desc_op.replace(desc_op.split(\":\")[0],allwordsintitle)\n",
    "    desc_op = desc_op.replace(desc_op.split(\":\")[1],allwordsindescription)\n",
    "    \n",
    "\n",
    "    for clrs in colorlist:\n",
    "        for allwords in allwordsintitle.split(\" \"):\n",
    "            if clrs == allwords or clrs+\".\" == allwords or clrs+\",\" == allwords or clrs+\";\" == allwords:\n",
    "                allwordsintitle = allwordsintitle.replace(clrs,color_instr)\n",
    "        for allwords in allwordsindescription.split(\" \"):\n",
    "            if clrs == allwords or clrs+\".\" == allwords or clrs+\",\" == allwords or clrs+\";\" == allwords:\n",
    "                allwordsindescription = allwordsindescription.replace(clrs,color_instr)\n",
    "\n",
    "    def remove_duplicates(li):\n",
    "        my_set = set()\n",
    "        res = []\n",
    "        for e in li:\n",
    "            if e not in my_set:\n",
    "                res.append(e)\n",
    "                my_set.add(e)\n",
    "        #\n",
    "        return res\n",
    "\n",
    "    allwordsintitlelist = allwordsintitle.split(\" \")\n",
    "    allwordsintitlelist = remove_duplicates(allwordsintitlelist)\n",
    "    allwordsintitle = ' '.join(allwordsintitlelist)\n",
    "\n",
    "    desc_op = desc_op.replace(desc_op.split(\":\")[0],allwordsintitle)\n",
    "    desc_op = desc_op.replace(desc_op.split(\":\")[1],allwordsindescription)\n",
    "    final_time = time.time()\n",
    "    print(\"time required to generate the description is \"+str(final_time - start_time))\n",
    "    print(\"\\n\\nFinal description: \")\n",
    "    print(desc_op)\n",
    "\n",
    "\n"
   ]
  },
  {
   "cell_type": "code",
   "execution_count": null,
   "metadata": {},
   "outputs": [],
   "source": [
    "\n",
    "    "
   ]
  },
  {
   "cell_type": "code",
   "execution_count": null,
   "metadata": {},
   "outputs": [],
   "source": []
  },
  {
   "cell_type": "code",
   "execution_count": null,
   "metadata": {},
   "outputs": [],
   "source": []
  }
 ],
 "metadata": {
  "kernelspec": {
   "display_name": "Python 3",
   "language": "python",
   "name": "python3"
  },
  "language_info": {
   "codemirror_mode": {
    "name": "ipython",
    "version": 3
   },
   "file_extension": ".py",
   "mimetype": "text/x-python",
   "name": "python",
   "nbconvert_exporter": "python",
   "pygments_lexer": "ipython3",
   "version": "3.5.2"
  },
  "widgets": {
   "state": {},
   "version": "1.1.2"
  }
 },
 "nbformat": 4,
 "nbformat_minor": 1
}
